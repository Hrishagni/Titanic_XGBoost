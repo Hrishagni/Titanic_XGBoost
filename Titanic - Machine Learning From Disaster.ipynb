{
 "cells": [
  {
   "cell_type": "markdown",
   "id": "04cd8b0d",
   "metadata": {},
   "source": [
    "The Challenge\n",
    "The sinking of the Titanic is one of the most infamous shipwrecks in history.\n",
    "\n",
    "On April 15, 1912, during her maiden voyage, the widely considered “unsinkable” RMS Titanic sank after colliding with an iceberg. Unfortunately, there weren’t enough lifeboats for everyone onboard, resulting in the death of 1502 out of 2224 passengers and crew.\n",
    "\n",
    "While there was some element of luck involved in surviving, it seems some groups of people were more likely to survive than others.\n",
    "\n",
    "In this challenge, I built a predictive model that answers the question: “what sorts of people were more likely to survive?” using passenger data (ie name, age, gender, socio-economic class, etc).\n",
    "\n",
    "The accuracy of the model is 0.77"
   ]
  },
  {
   "cell_type": "code",
   "execution_count": 62,
   "id": "90506d75",
   "metadata": {},
   "outputs": [],
   "source": [
    "import sklearn\n",
    "import xgboost as xgb\n",
    "import matplotlib.pyplot as plt\n",
    "import seaborn as sns\n",
    "import numpy as np\n",
    "import pandas as pd\n",
    "import warnings\n",
    "from xgboost import cv\n",
    "warnings.filterwarnings('ignore')"
   ]
  },
  {
   "cell_type": "code",
   "execution_count": 63,
   "id": "1bb5b228",
   "metadata": {},
   "outputs": [
    {
     "name": "stdout",
     "output_type": "stream",
     "text": [
      "(891, 12)\n"
     ]
    },
    {
     "data": {
      "text/html": [
       "<div>\n",
       "<style scoped>\n",
       "    .dataframe tbody tr th:only-of-type {\n",
       "        vertical-align: middle;\n",
       "    }\n",
       "\n",
       "    .dataframe tbody tr th {\n",
       "        vertical-align: top;\n",
       "    }\n",
       "\n",
       "    .dataframe thead th {\n",
       "        text-align: right;\n",
       "    }\n",
       "</style>\n",
       "<table border=\"1\" class=\"dataframe\">\n",
       "  <thead>\n",
       "    <tr style=\"text-align: right;\">\n",
       "      <th></th>\n",
       "      <th>PassengerId</th>\n",
       "      <th>Survived</th>\n",
       "      <th>Pclass</th>\n",
       "      <th>Name</th>\n",
       "      <th>Sex</th>\n",
       "      <th>Age</th>\n",
       "      <th>SibSp</th>\n",
       "      <th>Parch</th>\n",
       "      <th>Ticket</th>\n",
       "      <th>Fare</th>\n",
       "      <th>Cabin</th>\n",
       "      <th>Embarked</th>\n",
       "    </tr>\n",
       "  </thead>\n",
       "  <tbody>\n",
       "    <tr>\n",
       "      <th>0</th>\n",
       "      <td>1</td>\n",
       "      <td>0</td>\n",
       "      <td>3</td>\n",
       "      <td>Braund, Mr. Owen Harris</td>\n",
       "      <td>male</td>\n",
       "      <td>22.0</td>\n",
       "      <td>1</td>\n",
       "      <td>0</td>\n",
       "      <td>A/5 21171</td>\n",
       "      <td>7.2500</td>\n",
       "      <td>NaN</td>\n",
       "      <td>S</td>\n",
       "    </tr>\n",
       "    <tr>\n",
       "      <th>1</th>\n",
       "      <td>2</td>\n",
       "      <td>1</td>\n",
       "      <td>1</td>\n",
       "      <td>Cumings, Mrs. John Bradley (Florence Briggs Th...</td>\n",
       "      <td>female</td>\n",
       "      <td>38.0</td>\n",
       "      <td>1</td>\n",
       "      <td>0</td>\n",
       "      <td>PC 17599</td>\n",
       "      <td>71.2833</td>\n",
       "      <td>C85</td>\n",
       "      <td>C</td>\n",
       "    </tr>\n",
       "    <tr>\n",
       "      <th>2</th>\n",
       "      <td>3</td>\n",
       "      <td>1</td>\n",
       "      <td>3</td>\n",
       "      <td>Heikkinen, Miss. Laina</td>\n",
       "      <td>female</td>\n",
       "      <td>26.0</td>\n",
       "      <td>0</td>\n",
       "      <td>0</td>\n",
       "      <td>STON/O2. 3101282</td>\n",
       "      <td>7.9250</td>\n",
       "      <td>NaN</td>\n",
       "      <td>S</td>\n",
       "    </tr>\n",
       "    <tr>\n",
       "      <th>3</th>\n",
       "      <td>4</td>\n",
       "      <td>1</td>\n",
       "      <td>1</td>\n",
       "      <td>Futrelle, Mrs. Jacques Heath (Lily May Peel)</td>\n",
       "      <td>female</td>\n",
       "      <td>35.0</td>\n",
       "      <td>1</td>\n",
       "      <td>0</td>\n",
       "      <td>113803</td>\n",
       "      <td>53.1000</td>\n",
       "      <td>C123</td>\n",
       "      <td>S</td>\n",
       "    </tr>\n",
       "    <tr>\n",
       "      <th>4</th>\n",
       "      <td>5</td>\n",
       "      <td>0</td>\n",
       "      <td>3</td>\n",
       "      <td>Allen, Mr. William Henry</td>\n",
       "      <td>male</td>\n",
       "      <td>35.0</td>\n",
       "      <td>0</td>\n",
       "      <td>0</td>\n",
       "      <td>373450</td>\n",
       "      <td>8.0500</td>\n",
       "      <td>NaN</td>\n",
       "      <td>S</td>\n",
       "    </tr>\n",
       "  </tbody>\n",
       "</table>\n",
       "</div>"
      ],
      "text/plain": [
       "   PassengerId  Survived  Pclass  \\\n",
       "0            1         0       3   \n",
       "1            2         1       1   \n",
       "2            3         1       3   \n",
       "3            4         1       1   \n",
       "4            5         0       3   \n",
       "\n",
       "                                                Name     Sex   Age  SibSp  \\\n",
       "0                            Braund, Mr. Owen Harris    male  22.0      1   \n",
       "1  Cumings, Mrs. John Bradley (Florence Briggs Th...  female  38.0      1   \n",
       "2                             Heikkinen, Miss. Laina  female  26.0      0   \n",
       "3       Futrelle, Mrs. Jacques Heath (Lily May Peel)  female  35.0      1   \n",
       "4                           Allen, Mr. William Henry    male  35.0      0   \n",
       "\n",
       "   Parch            Ticket     Fare Cabin Embarked  \n",
       "0      0         A/5 21171   7.2500   NaN        S  \n",
       "1      0          PC 17599  71.2833   C85        C  \n",
       "2      0  STON/O2. 3101282   7.9250   NaN        S  \n",
       "3      0            113803  53.1000  C123        S  \n",
       "4      0            373450   8.0500   NaN        S  "
      ]
     },
     "execution_count": 63,
     "metadata": {},
     "output_type": "execute_result"
    }
   ],
   "source": [
    "train=pd.read_csv('./train.csv')\n",
    "test=pd.read_csv('./test.csv')\n",
    "print(train.shape)\n",
    "train.head()"
   ]
  },
  {
   "cell_type": "code",
   "execution_count": 64,
   "id": "d282699a",
   "metadata": {},
   "outputs": [],
   "source": [
    "# Start - Add new feature Ticket_type\n",
    "train['Ticket_type']=train['Ticket'].apply(lambda x:x[0:3])\n",
    "train['Ticket_type']=train['Ticket_type'].astype('category')\n",
    "train['Ticket_type']=train['Ticket_type'].cat.codes\n",
    "\n",
    "test['Ticket_type']=test['Ticket'].apply(lambda x:x[0:3])\n",
    "test['Ticket_type']=test['Ticket_type'].astype('category')\n",
    "test['Ticket_type']=test['Ticket_type'].cat.codes\n",
    "# End"
   ]
  },
  {
   "cell_type": "code",
   "execution_count": 65,
   "id": "8b310311",
   "metadata": {},
   "outputs": [],
   "source": [
    "# Start - Add new feature Had_cabin\n",
    "train['Cabin'].unique()\n",
    "train['Had_Cabin']=train['Cabin'].apply(lambda x: 0 if type(x)==float else 1)\n",
    "test['Had_Cabin']=test['Cabin'].apply(lambda x: 0 if type(x)==float else 1)\n",
    "# End"
   ]
  },
  {
   "cell_type": "code",
   "execution_count": 66,
   "id": "27938d4c",
   "metadata": {},
   "outputs": [],
   "source": [
    "# Start - Add new feature Family_size\n",
    "train['Family_size']=train['SibSp']+train['Parch']+1\n",
    "test['Family_size']=test['SibSp']+test['Parch']+1\n",
    "# End"
   ]
  },
  {
   "cell_type": "code",
   "execution_count": 67,
   "id": "075a9dd2",
   "metadata": {},
   "outputs": [
    {
     "data": {
      "text/plain": [
       "5          Age\n",
       "10       Cabin\n",
       "11    Embarked\n",
       "Name: index, dtype: object"
      ]
     },
     "execution_count": 67,
     "metadata": {},
     "output_type": "execute_result"
    }
   ],
   "source": [
    "# Start - Deal null values\n",
    "temp=pd.DataFrame(train.isnull().sum()).reset_index()\n",
    "temp[temp[0]>0]['index']\n",
    "\n",
    "# End"
   ]
  },
  {
   "cell_type": "code",
   "execution_count": 68,
   "id": "3e341197",
   "metadata": {},
   "outputs": [
    {
     "data": {
      "text/plain": [
       "Embarked\n",
       "C    102\n",
       "Q     46\n",
       "S    270\n",
       "dtype: int64"
      ]
     },
     "execution_count": 68,
     "metadata": {},
     "output_type": "execute_result"
    }
   ],
   "source": [
    "# Start - Group Embarked values\n",
    "train.groupby('Embarked').size()\n",
    "test.groupby('Embarked').size()\n",
    "# End"
   ]
  },
  {
   "cell_type": "code",
   "execution_count": 69,
   "id": "84cc2256",
   "metadata": {},
   "outputs": [],
   "source": [
    "# Start - Handle missing values\n",
    "train['Embarked'].fillna('S',inplace=True)\n",
    "test['Embarked'].fillna('S',inplace=True)\n",
    "train['Embarked']=train['Embarked'].astype('category')\n",
    "test['Embarked']=test['Embarked'].astype('category')\n",
    "\n",
    "mean_age=train['Age'].mean()\n",
    "std_age=train['Age'].std()\n",
    "na_count_age=train['Age'].isnull().sum()\n",
    "na_rand_list=np.random.randint(mean_age-std_age,mean_age+std_age,size=na_count_age)\n",
    "train.loc[train['Age'].isna(),'Age']=na_rand_list\n",
    "\n",
    "mean_age=test['Age'].mean()\n",
    "std_age=test['Age'].std()\n",
    "na_count_age_t=test['Age'].isnull().sum()\n",
    "na_rand_list_test=np.random.randint(mean_age-std_age,mean_age+std_age,size=na_count_age_t)\n",
    "test.loc[test['Age'].isna(),'Age']=na_rand_list_test\n",
    "\n",
    "train['Age']=train['Age'].astype(int)\n",
    "test['Age']=test['Age'].astype(int)\n",
    "# End"
   ]
  },
  {
   "cell_type": "code",
   "execution_count": 70,
   "id": "b839c614",
   "metadata": {},
   "outputs": [],
   "source": [
    "# Start - Map categorical values to integers\n",
    "train['Embarked']=train['Embarked'].map({'S':0,'C':1,'Q':2}).astype(int)\n",
    "train['Sex']=train['Sex'].map({'male':0,'female':1}).astype(int)\n",
    "\n",
    "test['Embarked']=test['Embarked'].map({'S':0,'C':1,'Q':2}).astype(int)\n",
    "test['Sex']=test['Sex'].map({'male':0,'female':1}).astype(int)\n",
    "# End"
   ]
  },
  {
   "cell_type": "code",
   "execution_count": 71,
   "id": "361059fd",
   "metadata": {},
   "outputs": [],
   "source": [
    "# Start - Drop unnecessary columns\n",
    "drop_cols=['PassengerId','Name','SibSp','Parch','Ticket','Cabin']\n",
    "train=train.drop(drop_cols,axis=1)\n",
    "PassengerId=test['PassengerId']\n",
    "test=test.drop(drop_cols,axis=1)\n",
    "# End"
   ]
  },
  {
   "cell_type": "code",
   "execution_count": 72,
   "id": "c69b421b",
   "metadata": {},
   "outputs": [
    {
     "data": {
      "text/plain": [
       "<AxesSubplot:>"
      ]
     },
     "execution_count": 72,
     "metadata": {},
     "output_type": "execute_result"
    },
    {
     "data": {
      "image/png": "[encoded data removed]",
      "text/plain": [
       "<Figure size 1440x720 with 2 Axes>"
      ]
     },
     "metadata": {
      "needs_background": "light"
     },
     "output_type": "display_data"
    }
   ],
   "source": [
    "# Start - Check correlation matrix\n",
    "plt.figure(figsize=(20,10))\n",
    "sns.heatmap(train.corr(),square=True,annot=True)\n",
    "# End"
   ]
  },
  {
   "cell_type": "code",
   "execution_count": 73,
   "id": "acbd8b0f",
   "metadata": {},
   "outputs": [
    {
     "name": "stdout",
     "output_type": "stream",
     "text": [
      "[12:20:37] WARNING: C:/Users/Administrator/workspace/xgboost-win64_release_1.4.0/src/learner.cc:1095: Starting in XGBoost 1.3.0, the default evaluation metric used with the objective 'binary:logistic' was changed from 'error' to 'logloss'. Explicitly set eval_metric if you'd like to restore the old behavior.\n"
     ]
    }
   ],
   "source": [
    "# Start - Model Building\n",
    "y_train=train['Survived']\n",
    "x_train=train.drop(['Survived'],axis=1)\n",
    "x_test=test\n",
    "\n",
    "params={\n",
    "    'n_estimators':200,\n",
    "    'objective':'binary:logistic',\n",
    "    'max_depth':4,\n",
    "    'learning_rate':0.1\n",
    "}\n",
    "\n",
    "model=xgb.XGBClassifier(**params).fit(x_train,y_train)\n",
    "y_test=model.predict(x_test)\n",
    "submission=pd.DataFrame({'PassengerId':PassengerId,'Survived':y_test})\n",
    "submission.to_csv(\"submission.csv\",index=False)\n",
    "#End"
   ]
  },
  {
   "cell_type": "code",
   "execution_count": null,
   "id": "f4c5876c",
   "metadata": {},
   "outputs": [],
   "source": []
  }
 ],
 "metadata": {
  "kernelspec": {
   "display_name": "Python 3 (ipykernel)",
   "language": "python",
   "name": "python3"
  },
  "language_info": {
   "codemirror_mode": {
    "name": "ipython",
    "version": 3
   },
   "file_extension": ".py",
   "mimetype": "text/x-python",
   "name": "python",
   "nbconvert_exporter": "python",
   "pygments_lexer": "ipython3",
   "version": "3.9.6"
  }
 },
 "nbformat": 4,
 "nbformat_minor": 5
}
